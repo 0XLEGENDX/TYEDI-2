{
  "cells": [
    {
      "cell_type": "code",
      "execution_count": null,
      "metadata": {
        "colab": {
          "base_uri": "https://localhost:8080/"
        },
        "id": "TTJh7Bo8OKic",
        "outputId": "8f05b245-f534-4e9b-c42f-203344065d01"
      },
      "outputs": [
        {
          "output_type": "stream",
          "name": "stdout",
          "text": [
            "Archive:  new.zip\n",
            "  inflating: README.dataset.txt      \n",
            "  inflating: README.roboflow.txt     \n",
            "  inflating: data.yaml               \n",
            "  inflating: test/images/bp_262118_4_174541_4_19_jpg.rf.83019ff6f2b13a182d37ac45375e012f.jpeg  \n",
            "  inflating: test/images/bs_261926_4_174326_4_19_jpg.rf.7ef43d7affcd9fa599adedc52e911211.jpeg  \n",
            "  inflating: test/images/cd_261945_4_174271_4_19_jpg.rf.75be230ab197842281564fb6447e7428.jpeg  \n",
            "  inflating: test/images/cl_261910_4_174455_4_19_jpg.rf.bee3769739f7df98507f42e023b155e8.jpeg  \n",
            "  inflating: test/images/cr_261969_4_174264_4_19_jpg.rf.de93c98ffc682d16dd91d862ff1d636c.jpeg  \n",
            "  inflating: test/images/el_262187_4_174500_4_19_jpg.rf.001f03055ad8808501e9208e15f3764b.jpeg  \n",
            "  inflating: test/images/vp_262092_4_174270_4_19_jpg.rf.b32574f90638f187c1a5812fa3bab06f.jpeg  \n",
            "  inflating: test/images/vp_262096_4_174270_4_19_jpg.rf.334b9ef442e980c50d5d79f4a9128a7c.jpeg  \n",
            "  inflating: test/images/wm_262126_4_174161_4_19_jpg.rf.d1c09d453b2f8be2fe5749caba56d022.jpeg  \n",
            "  inflating: test/labels/bp_262118_4_174541_4_19_jpg.rf.83019ff6f2b13a182d37ac45375e012f.txt  \n",
            "  inflating: test/labels/bs_261926_4_174326_4_19_jpg.rf.7ef43d7affcd9fa599adedc52e911211.txt  \n",
            "  inflating: test/labels/cd_261945_4_174271_4_19_jpg.rf.75be230ab197842281564fb6447e7428.txt  \n",
            "  inflating: test/labels/cl_261910_4_174455_4_19_jpg.rf.bee3769739f7df98507f42e023b155e8.txt  \n",
            "  inflating: test/labels/cr_261969_4_174264_4_19_jpg.rf.de93c98ffc682d16dd91d862ff1d636c.txt  \n",
            "  inflating: test/labels/el_262187_4_174500_4_19_jpg.rf.001f03055ad8808501e9208e15f3764b.txt  \n",
            "  inflating: test/labels/vp_262092_4_174270_4_19_jpg.rf.b32574f90638f187c1a5812fa3bab06f.txt  \n",
            "  inflating: test/labels/vp_262096_4_174270_4_19_jpg.rf.334b9ef442e980c50d5d79f4a9128a7c.txt  \n",
            "  inflating: test/labels/wm_262126_4_174161_4_19_jpg.rf.d1c09d453b2f8be2fe5749caba56d022.txt  \n",
            "  inflating: train/images/bp_262118_4_174545_4_19_jpg.rf.e13b958d6de09b3c22b83af535d6649b.jpeg  \n",
            "  inflating: train/images/bp_262122_4_174545_4_19_jpg.rf.29b768493925fdb593746bc25f007aaf.jpeg  \n",
            "  inflating: train/images/bs_261922_4_174326_4_19_jpg.rf.52ea7e691f00b8b76e0e794fea7dc344.jpeg  \n",
            "  inflating: train/images/bs_261922_4_174330_4_19_jpg.rf.a37944dd4397317100ee15b36af5ebd1.jpeg  \n",
            "  inflating: train/images/bs_261926_4_174330_4_19_jpg.rf.72542b2a66725c1ae328c78f77c4c85e.jpeg  \n",
            "  inflating: train/images/cd_261941_4_174267_4_19_jpg.rf.b5ebea921bf04f03aa81e2001d73a794.jpeg  \n",
            "  inflating: train/images/cd_261945_4_174267_4_19_jpg.rf.3528c8527573e06a5a0ce95b793e9356.jpeg  \n",
            "  inflating: train/images/cl_261906_4_174455_4_19_jpg.rf.58c04c52f87aff8fb8aea3f01bae0382.jpeg  \n",
            "  inflating: train/images/cl_261906_4_174459_4_19_jpg.rf.a9a327073aefad52c2973dfca46786cb.jpeg  \n",
            "  inflating: train/images/cl_261910_4_174459_4_19_jpg.rf.5b3596ed898f11b9a6cb4dc7cc1e79ba.jpeg  \n",
            "  inflating: train/images/cr_261969_4_174260_4_19_jpg.rf.4b04b440fe329478f7454af50bd42a05.jpeg  \n",
            "  inflating: train/images/cr_261973_4_174260_4_19_jpg.rf.4a414f71dad8d4afd8ae8327b4368bf3.jpeg  \n",
            "  inflating: train/images/cr_261973_4_174264_4_19_jpg.rf.d2f75555fc55ff03b2b17337bead83f2.jpeg  \n",
            "  inflating: train/images/el_262183_4_174496_4_19_jpg.rf.bf92bfcda7d5935dd2446bb8be167b4d.jpeg  \n",
            "  inflating: train/images/el_262183_4_174500_4_19_jpg.rf.2a8dae181e5725335d976fcf0e7f10ef.jpeg  \n",
            "  inflating: train/images/el_262187_4_174496_4_19_jpg.rf.70ee8c11b2a8212ba2689ca3a8a3ec52.jpeg  \n",
            "  inflating: train/images/fn_261892_4_174161_4_19_jpg.rf.8a59107bc6566dab40ca805a491abf41.jpeg  \n",
            "  inflating: train/images/fn_261892_4_174165_4_19_jpg.rf.038aac8c610675a920e87310b90a2b01.jpeg  \n",
            "  inflating: train/images/fn_261896_4_174161_4_19_jpg.rf.9668e3ca701ee79e11a643a0bfb7bd37.jpeg  \n",
            "  inflating: train/images/fn_261896_4_174165_4_19_jpg.rf.884a8ca87e2a01dd3ea19ecd4a65d3c9.jpeg  \n",
            "  inflating: train/images/hh_261904_4_174207_4_19_jpg.rf.1f4426ab13eda7f4adc38299d2510fe6.jpeg  \n",
            "  inflating: train/images/hh_261908_4_174211_4_19_jpg.rf.cee16d618cb28b134f2d6ce09d77b08e.jpeg  \n",
            "  inflating: train/images/hn_262078_4_174230_4_19_jpg.rf.bd2a62120ea354ed9baaa14866c4336b.jpeg  \n",
            "  inflating: train/images/hn_262078_4_174234_4_19_jpg.rf.70f35dd5ee5bbe8f1f07857878e775b5.jpeg  \n",
            "  inflating: train/images/hn_262082_4_174230_4_19_jpg.rf.b62182ee3c3af448e2da57a224d85918.jpeg  \n",
            "  inflating: train/images/is_261996_4_174270_4_19_jpg.rf.0256f188237354981c0590e82044499e.jpeg  \n",
            "  inflating: train/images/is_262000_4_174270_4_19_jpg.rf.43acf0e4319221458d23363ec66ef010.jpeg  \n",
            "  inflating: train/images/is_262000_4_174274_4_19_jpg.rf.6dc8925825909551f18d3d71b7021310.jpeg  \n",
            "  inflating: train/images/kg_261733_4_174526_4_19_jpg.rf.c15a5bd1c6a8ebd255c1b61c48a6c6ca.jpeg  \n",
            "  inflating: train/images/kg_261737_4_174522_4_19_jpg.rf.97b50fd7852b1ce9b33c227bc50989e8.jpeg  \n",
            "  inflating: train/images/kn_261727_4_174542_4_19_jpg.rf.dbfc043ba3c6157b689dac4457c156eb.jpeg  \n",
            "  inflating: train/images/kn_261731_4_174542_4_19_jpg.rf.106aea525f0e114e5895646c99fe6bcc.jpeg  \n",
            "  inflating: train/images/kn_261731_4_174546_4_19_jpg.rf.90e6a1d31bdc893927f4d74a0a32406b.jpeg  \n",
            "  inflating: train/images/ng_261974_4_174545_4_19_jpg.rf.88a37629a53c11f3146131147c9c3cea.jpeg  \n",
            "  inflating: train/images/ng_261978_4_174541_4_19_jpg.rf.afd66ccb7bdc913a683ff9b8254c728d.jpeg  \n",
            "  inflating: train/images/ng_261978_4_174545_4_19_jpg.rf.9b55a62025b9725c7ccb593b87b56dd7.jpeg  \n",
            "  inflating: train/images/rc_261710_4_174452_4_19_jpg.rf.a307839df77cd28486fa67c7112e993d.jpeg  \n",
            "  inflating: train/images/rc_261710_4_174456_4_19_jpg.rf.f1fc663c4971fa4cc08a4c6368b2bb6e.jpeg  \n",
            "  inflating: train/images/rc_261714_4_174456_4_19_jpg.rf.1f075a7e5665a70a00212314ec6416b8.jpeg  \n",
            "  inflating: train/images/rp_261739_4_174483_4_19_jpg.rf.492db8c1a26e8a00aae6f4aa63b7dc2b.jpeg  \n",
            "  inflating: train/images/rp_261743_4_174483_4_19_jpg.rf.c4054a62b0903883c241b4f268b73fbd.jpeg  \n",
            "  inflating: train/images/sc_261904_4_174255_4_19_jpg.rf.d6c901772a38352c73d58707c34dd38c.jpeg  \n",
            "  inflating: train/images/sc_261908_4_174255_4_19_jpg.rf.8a598b255739c431d278832a0662fa4b.jpeg  \n",
            "  inflating: train/images/sc_261908_4_174259_4_19_jpg.rf.fc4fbf01022d88ad5122c0a41ff3fac4.jpeg  \n",
            "  inflating: train/images/sg_262074_4_174314_4_19_jpg.rf.ae8a64c6c508866abe50b5abde36cc22.jpeg  \n",
            "  inflating: train/images/sg_262074_4_174318_4_19_jpg.rf.314612fa697eea23f5d34a91335e44c7.jpeg  \n",
            "  inflating: train/images/sg_262078_4_174314_4_19_jpg.rf.2d23f043fda6f6bac1600f138f68a3a6.jpeg  \n",
            "  inflating: train/images/sr_262183_4_174543_4_19_jpg.rf.1d94e3f8b3fe056dce60ae220a5ea618.jpeg  \n",
            "  inflating: train/images/sr_262183_4_174547_4_19_jpg.rf.1c8990c040c37ce768b52b344ac8d90d.jpeg  \n",
            "  inflating: train/images/sr_262187_4_174543_4_19_jpg.rf.8fbb852891816cb0de18ecaeb750fce4.jpeg  \n",
            "  inflating: train/images/sr_262187_4_174547_4_19_jpg.rf.467fd69d0e17331b9396bff7b2e3df4d.jpeg  \n",
            "  inflating: train/images/st_261964_4_174521_4_19_jpg.rf.1305eb4b9d786bcf5bdf907e7d51bd52.jpeg  \n",
            "  inflating: train/images/st_261968_4_174517_4_19_jpg.rf.8fb8c0944387cebe604bad53c3945f02.jpeg  \n",
            "  inflating: train/images/st_261968_4_174521_4_19_jpg.rf.755e4fc599271a252d0a68afbd82ee25.jpeg  \n",
            "  inflating: train/images/td_261698_4_174474_4_19_jpg.rf.ab95a77b1e6a8addd04b73567c127cf7.jpeg  \n",
            "  inflating: train/images/td_261698_4_174478_4_19_jpg.rf.9c8b0763a33f514898829286643c7021.jpeg  \n",
            "  inflating: train/images/td_261702_4_174474_4_19_jpg.rf.bb2c00a5e2d82a5cc70eb8c3aa4236c8.jpeg  \n",
            "  inflating: train/images/td_261702_4_174478_4_19_jpg.rf.5bc53a551b4dc572c1e2298715cc7795.jpeg  \n",
            "  inflating: train/images/vp_262096_4_174266_4_19_jpg.rf.68c778d3a96218a9f5be0922e291d3e6.jpeg  \n",
            "  inflating: train/images/wb_261494_4_174683_4_19_jpg.rf.a9c94bcc4c35508bbc0b8934e57b91cd.jpeg  \n",
            "  inflating: train/images/wb_261494_4_174687_4_19_jpg.rf.e3123b65b326175a278b22c51d786474.jpeg  \n",
            "  inflating: train/images/wb_261498_4_174687_4_19_jpg.rf.eefe99debc23bb850545464388382ee1.jpeg  \n",
            "  inflating: train/images/wm_262130_4_174157_4_19_jpg.rf.e6b63433dade42e3591fce38fdc6ee1e.jpeg  \n",
            "  inflating: train/images/wm_262130_4_174161_4_19_jpg.rf.14b2b7c40de7477e0de0dc705f7892f8.jpeg  \n",
            "  inflating: train/labels/bp_262118_4_174545_4_19_jpg.rf.e13b958d6de09b3c22b83af535d6649b.txt  \n",
            "  inflating: train/labels/bp_262122_4_174545_4_19_jpg.rf.29b768493925fdb593746bc25f007aaf.txt  \n",
            "  inflating: train/labels/bs_261922_4_174326_4_19_jpg.rf.52ea7e691f00b8b76e0e794fea7dc344.txt  \n",
            "  inflating: train/labels/bs_261922_4_174330_4_19_jpg.rf.a37944dd4397317100ee15b36af5ebd1.txt  \n",
            "  inflating: train/labels/bs_261926_4_174330_4_19_jpg.rf.72542b2a66725c1ae328c78f77c4c85e.txt  \n",
            "  inflating: train/labels/cd_261941_4_174267_4_19_jpg.rf.b5ebea921bf04f03aa81e2001d73a794.txt  \n",
            "  inflating: train/labels/cd_261945_4_174267_4_19_jpg.rf.3528c8527573e06a5a0ce95b793e9356.txt  \n",
            "  inflating: train/labels/cl_261906_4_174455_4_19_jpg.rf.58c04c52f87aff8fb8aea3f01bae0382.txt  \n",
            "  inflating: train/labels/cl_261906_4_174459_4_19_jpg.rf.a9a327073aefad52c2973dfca46786cb.txt  \n",
            "  inflating: train/labels/cl_261910_4_174459_4_19_jpg.rf.5b3596ed898f11b9a6cb4dc7cc1e79ba.txt  \n",
            "  inflating: train/labels/cr_261969_4_174260_4_19_jpg.rf.4b04b440fe329478f7454af50bd42a05.txt  \n",
            "  inflating: train/labels/cr_261973_4_174260_4_19_jpg.rf.4a414f71dad8d4afd8ae8327b4368bf3.txt  \n",
            "  inflating: train/labels/cr_261973_4_174264_4_19_jpg.rf.d2f75555fc55ff03b2b17337bead83f2.txt  \n",
            "  inflating: train/labels/el_262183_4_174496_4_19_jpg.rf.bf92bfcda7d5935dd2446bb8be167b4d.txt  \n",
            "  inflating: train/labels/el_262183_4_174500_4_19_jpg.rf.2a8dae181e5725335d976fcf0e7f10ef.txt  \n",
            "  inflating: train/labels/el_262187_4_174496_4_19_jpg.rf.70ee8c11b2a8212ba2689ca3a8a3ec52.txt  \n",
            "  inflating: train/labels/fn_261892_4_174161_4_19_jpg.rf.8a59107bc6566dab40ca805a491abf41.txt  \n",
            "  inflating: train/labels/fn_261892_4_174165_4_19_jpg.rf.038aac8c610675a920e87310b90a2b01.txt  \n",
            "  inflating: train/labels/fn_261896_4_174161_4_19_jpg.rf.9668e3ca701ee79e11a643a0bfb7bd37.txt  \n",
            "  inflating: train/labels/fn_261896_4_174165_4_19_jpg.rf.884a8ca87e2a01dd3ea19ecd4a65d3c9.txt  \n",
            "  inflating: train/labels/hh_261904_4_174207_4_19_jpg.rf.1f4426ab13eda7f4adc38299d2510fe6.txt  \n",
            "  inflating: train/labels/hh_261908_4_174211_4_19_jpg.rf.cee16d618cb28b134f2d6ce09d77b08e.txt  \n",
            "  inflating: train/labels/hn_262078_4_174230_4_19_jpg.rf.bd2a62120ea354ed9baaa14866c4336b.txt  \n",
            "  inflating: train/labels/hn_262078_4_174234_4_19_jpg.rf.70f35dd5ee5bbe8f1f07857878e775b5.txt  \n",
            "  inflating: train/labels/hn_262082_4_174230_4_19_jpg.rf.b62182ee3c3af448e2da57a224d85918.txt  \n",
            "  inflating: train/labels/is_261996_4_174270_4_19_jpg.rf.0256f188237354981c0590e82044499e.txt  \n",
            "  inflating: train/labels/is_262000_4_174270_4_19_jpg.rf.43acf0e4319221458d23363ec66ef010.txt  \n",
            "  inflating: train/labels/is_262000_4_174274_4_19_jpg.rf.6dc8925825909551f18d3d71b7021310.txt  \n",
            "  inflating: train/labels/kg_261733_4_174526_4_19_jpg.rf.c15a5bd1c6a8ebd255c1b61c48a6c6ca.txt  \n",
            "  inflating: train/labels/kg_261737_4_174522_4_19_jpg.rf.97b50fd7852b1ce9b33c227bc50989e8.txt  \n",
            "  inflating: train/labels/kn_261727_4_174542_4_19_jpg.rf.dbfc043ba3c6157b689dac4457c156eb.txt  \n",
            "  inflating: train/labels/kn_261731_4_174542_4_19_jpg.rf.106aea525f0e114e5895646c99fe6bcc.txt  \n",
            "  inflating: train/labels/kn_261731_4_174546_4_19_jpg.rf.90e6a1d31bdc893927f4d74a0a32406b.txt  \n",
            "  inflating: train/labels/ng_261974_4_174545_4_19_jpg.rf.88a37629a53c11f3146131147c9c3cea.txt  \n",
            "  inflating: train/labels/ng_261978_4_174541_4_19_jpg.rf.afd66ccb7bdc913a683ff9b8254c728d.txt  \n",
            "  inflating: train/labels/ng_261978_4_174545_4_19_jpg.rf.9b55a62025b9725c7ccb593b87b56dd7.txt  \n",
            "  inflating: train/labels/rc_261710_4_174452_4_19_jpg.rf.a307839df77cd28486fa67c7112e993d.txt  \n",
            "  inflating: train/labels/rc_261710_4_174456_4_19_jpg.rf.f1fc663c4971fa4cc08a4c6368b2bb6e.txt  \n",
            "  inflating: train/labels/rc_261714_4_174456_4_19_jpg.rf.1f075a7e5665a70a00212314ec6416b8.txt  \n",
            "  inflating: train/labels/rp_261739_4_174483_4_19_jpg.rf.492db8c1a26e8a00aae6f4aa63b7dc2b.txt  \n",
            "  inflating: train/labels/rp_261743_4_174483_4_19_jpg.rf.c4054a62b0903883c241b4f268b73fbd.txt  \n",
            "  inflating: train/labels/sc_261904_4_174255_4_19_jpg.rf.d6c901772a38352c73d58707c34dd38c.txt  \n",
            "  inflating: train/labels/sc_261908_4_174255_4_19_jpg.rf.8a598b255739c431d278832a0662fa4b.txt  \n",
            "  inflating: train/labels/sc_261908_4_174259_4_19_jpg.rf.fc4fbf01022d88ad5122c0a41ff3fac4.txt  \n",
            "  inflating: train/labels/sg_262074_4_174314_4_19_jpg.rf.ae8a64c6c508866abe50b5abde36cc22.txt  \n",
            "  inflating: train/labels/sg_262074_4_174318_4_19_jpg.rf.314612fa697eea23f5d34a91335e44c7.txt  \n",
            "  inflating: train/labels/sg_262078_4_174314_4_19_jpg.rf.2d23f043fda6f6bac1600f138f68a3a6.txt  \n",
            "  inflating: train/labels/sr_262183_4_174543_4_19_jpg.rf.1d94e3f8b3fe056dce60ae220a5ea618.txt  \n",
            "  inflating: train/labels/sr_262183_4_174547_4_19_jpg.rf.1c8990c040c37ce768b52b344ac8d90d.txt  \n",
            "  inflating: train/labels/sr_262187_4_174543_4_19_jpg.rf.8fbb852891816cb0de18ecaeb750fce4.txt  \n",
            "  inflating: train/labels/sr_262187_4_174547_4_19_jpg.rf.467fd69d0e17331b9396bff7b2e3df4d.txt  \n",
            "  inflating: train/labels/st_261964_4_174521_4_19_jpg.rf.1305eb4b9d786bcf5bdf907e7d51bd52.txt  \n",
            "  inflating: train/labels/st_261968_4_174517_4_19_jpg.rf.8fb8c0944387cebe604bad53c3945f02.txt  \n",
            "  inflating: train/labels/st_261968_4_174521_4_19_jpg.rf.755e4fc599271a252d0a68afbd82ee25.txt  \n",
            "  inflating: train/labels/td_261698_4_174474_4_19_jpg.rf.ab95a77b1e6a8addd04b73567c127cf7.txt  \n",
            "  inflating: train/labels/td_261698_4_174478_4_19_jpg.rf.9c8b0763a33f514898829286643c7021.txt  \n",
            "  inflating: train/labels/td_261702_4_174474_4_19_jpg.rf.bb2c00a5e2d82a5cc70eb8c3aa4236c8.txt  \n",
            "  inflating: train/labels/td_261702_4_174478_4_19_jpg.rf.5bc53a551b4dc572c1e2298715cc7795.txt  \n",
            "  inflating: train/labels/vp_262096_4_174266_4_19_jpg.rf.68c778d3a96218a9f5be0922e291d3e6.txt  \n",
            "  inflating: train/labels/wb_261494_4_174683_4_19_jpg.rf.a9c94bcc4c35508bbc0b8934e57b91cd.txt  \n",
            "  inflating: train/labels/wb_261494_4_174687_4_19_jpg.rf.e3123b65b326175a278b22c51d786474.txt  \n",
            "  inflating: train/labels/wb_261498_4_174687_4_19_jpg.rf.eefe99debc23bb850545464388382ee1.txt  \n",
            "  inflating: train/labels/wm_262130_4_174157_4_19_jpg.rf.e6b63433dade42e3591fce38fdc6ee1e.txt  \n",
            "  inflating: train/labels/wm_262130_4_174161_4_19_jpg.rf.14b2b7c40de7477e0de0dc705f7892f8.txt  \n",
            "  inflating: valid/images/bp_262122_4_174541_4_19_jpg.rf.fb4b9be196e6f3d3f6a9d7359405faf6.jpeg  \n",
            "  inflating: valid/images/cd_261941_4_174271_4_19_jpg.rf.f6cdbea4b7ad3e9aee4ef217174de4a1.jpeg  \n",
            "  inflating: valid/images/hh_261904_4_174211_4_19_jpg.rf.ed0184ffbb30ac792381537e32be187e.jpeg  \n",
            "  inflating: valid/images/hh_261908_4_174207_4_19_jpg.rf.09f9becfb6b95a264e02a624c2bbf0fb.jpeg  \n",
            "  inflating: valid/images/hn_262082_4_174234_4_19_jpg.rf.9f348d5c1e847fd37f6761fc410bf08e.jpeg  \n",
            "  inflating: valid/images/is_261996_4_174274_4_19_jpg.rf.3dc6256ab4bc230de669aedc328aa764.jpeg  \n",
            "  inflating: valid/images/kg_261733_4_174522_4_19_jpg.rf.f5a9a0a6052a663f89c245464769254a.jpeg  \n",
            "  inflating: valid/images/kn_261727_4_174546_4_19_jpg.rf.ddaf45e19c4e0f1123643641110b53e0.jpeg  \n",
            "  inflating: valid/images/ng_261974_4_174541_4_19_jpg.rf.915c30544a4e17be56cfc1ea15b3899e.jpeg  \n",
            "  inflating: valid/images/rc_261714_4_174452_4_19_jpg.rf.8fc1040c3aff944c3625c73745b40d32.jpeg  \n",
            "  inflating: valid/images/rp_261739_4_174479_4_19_jpg.rf.92008c6f1b9ba3b81acd78a8618d8fa4.jpeg  \n",
            "  inflating: valid/images/rp_261743_4_174479_4_19_jpg.rf.7af4f0ab4f260ec6d6a7231429ce60d3.jpeg  \n",
            "  inflating: valid/images/sc_261904_4_174259_4_19_jpg.rf.b309104e9a55e9bff2ba0143bc433953.jpeg  \n",
            "  inflating: valid/images/sg_262078_4_174318_4_19_jpg.rf.5c4dbecea3f46460a9534d7772e59149.jpeg  \n",
            "  inflating: valid/images/st_261964_4_174517_4_19_jpg.rf.53abeb1a92e18ee683b067af15ac5ce6.jpeg  \n",
            "  inflating: valid/images/vp_262092_4_174266_4_19_jpg.rf.6efbfb7c6b0f27db14f18283a6355126.jpeg  \n",
            "  inflating: valid/images/wb_261498_4_174683_4_19_jpg.rf.62ff0aa54158e6c9d848ee0a2e161a0d.jpeg  \n",
            "  inflating: valid/images/wm_262126_4_174157_4_19_jpg.rf.5baa21b9fc2ee28e5f817898c30807aa.jpeg  \n",
            "  inflating: valid/labels/bp_262122_4_174541_4_19_jpg.rf.fb4b9be196e6f3d3f6a9d7359405faf6.txt  \n",
            "  inflating: valid/labels/cd_261941_4_174271_4_19_jpg.rf.f6cdbea4b7ad3e9aee4ef217174de4a1.txt  \n",
            "  inflating: valid/labels/hh_261904_4_174211_4_19_jpg.rf.ed0184ffbb30ac792381537e32be187e.txt  \n",
            "  inflating: valid/labels/hh_261908_4_174207_4_19_jpg.rf.09f9becfb6b95a264e02a624c2bbf0fb.txt  \n",
            "  inflating: valid/labels/hn_262082_4_174234_4_19_jpg.rf.9f348d5c1e847fd37f6761fc410bf08e.txt  \n",
            "  inflating: valid/labels/is_261996_4_174274_4_19_jpg.rf.3dc6256ab4bc230de669aedc328aa764.txt  \n",
            "  inflating: valid/labels/kg_261733_4_174522_4_19_jpg.rf.f5a9a0a6052a663f89c245464769254a.txt  \n",
            "  inflating: valid/labels/kn_261727_4_174546_4_19_jpg.rf.ddaf45e19c4e0f1123643641110b53e0.txt  \n",
            "  inflating: valid/labels/ng_261974_4_174541_4_19_jpg.rf.915c30544a4e17be56cfc1ea15b3899e.txt  \n",
            "  inflating: valid/labels/rc_261714_4_174452_4_19_jpg.rf.8fc1040c3aff944c3625c73745b40d32.txt  \n",
            "  inflating: valid/labels/rp_261739_4_174479_4_19_jpg.rf.92008c6f1b9ba3b81acd78a8618d8fa4.txt  \n",
            "  inflating: valid/labels/rp_261743_4_174479_4_19_jpg.rf.7af4f0ab4f260ec6d6a7231429ce60d3.txt  \n",
            "  inflating: valid/labels/sc_261904_4_174259_4_19_jpg.rf.b309104e9a55e9bff2ba0143bc433953.txt  \n",
            "  inflating: valid/labels/sg_262078_4_174318_4_19_jpg.rf.5c4dbecea3f46460a9534d7772e59149.txt  \n",
            "  inflating: valid/labels/st_261964_4_174517_4_19_jpg.rf.53abeb1a92e18ee683b067af15ac5ce6.txt  \n",
            "  inflating: valid/labels/vp_262092_4_174266_4_19_jpg.rf.6efbfb7c6b0f27db14f18283a6355126.txt  \n",
            "  inflating: valid/labels/wb_261498_4_174683_4_19_jpg.rf.62ff0aa54158e6c9d848ee0a2e161a0d.txt  \n",
            "  inflating: valid/labels/wm_262126_4_174157_4_19_jpg.rf.5baa21b9fc2ee28e5f817898c30807aa.txt  \n"
          ]
        }
      ],
      "source": [
        "!unzip new.zip"
      ]
    },
    {
      "cell_type": "code",
      "execution_count": null,
      "metadata": {
        "colab": {
          "base_uri": "https://localhost:8080/"
        },
        "id": "p4KpuYMUOPWE",
        "outputId": "4ba04ca5-2d5d-4349-e3e6-a627e4c31c08"
      },
      "outputs": [
        {
          "output_type": "stream",
          "name": "stdout",
          "text": [
            "Collecting ultralytics\n",
            "  Downloading ultralytics-8.1.18-py3-none-any.whl (716 kB)\n",
            "\u001b[?25l     \u001b[90m━━━━━━━━━━━━━━━━━━━━━━━━━━━━━━━━━━━━━━━━\u001b[0m \u001b[32m0.0/716.0 kB\u001b[0m \u001b[31m?\u001b[0m eta \u001b[36m-:--:--\u001b[0m\r\u001b[2K     \u001b[91m━━━━━━━━━\u001b[0m\u001b[90m╺\u001b[0m\u001b[90m━━━━━━━━━━━━━━━━━━━━━━━━━━━━━━\u001b[0m \u001b[32m163.8/716.0 kB\u001b[0m \u001b[31m4.7 MB/s\u001b[0m eta \u001b[36m0:00:01\u001b[0m\r\u001b[2K     \u001b[91m━━━━━━━━━━━━━━━━━━━━━━━━━━━━━\u001b[0m\u001b[91m╸\u001b[0m\u001b[90m━━━━━━━━━━\u001b[0m \u001b[32m532.5/716.0 kB\u001b[0m \u001b[31m7.6 MB/s\u001b[0m eta \u001b[36m0:00:01\u001b[0m\r\u001b[2K     \u001b[90m━━━━━━━━━━━━━━━━━━━━━━━━━━━━━━━━━━━━━━━━\u001b[0m \u001b[32m716.0/716.0 kB\u001b[0m \u001b[31m7.4 MB/s\u001b[0m eta \u001b[36m0:00:00\u001b[0m\n",
            "\u001b[?25hRequirement already satisfied: matplotlib>=3.3.0 in /usr/local/lib/python3.10/dist-packages (from ultralytics) (3.7.1)\n",
            "Requirement already satisfied: opencv-python>=4.6.0 in /usr/local/lib/python3.10/dist-packages (from ultralytics) (4.8.0.76)\n",
            "Requirement already satisfied: pillow>=7.1.2 in /usr/local/lib/python3.10/dist-packages (from ultralytics) (9.4.0)\n",
            "Requirement already satisfied: pyyaml>=5.3.1 in /usr/local/lib/python3.10/dist-packages (from ultralytics) (6.0.1)\n",
            "Requirement already satisfied: requests>=2.23.0 in /usr/local/lib/python3.10/dist-packages (from ultralytics) (2.31.0)\n",
            "Requirement already satisfied: scipy>=1.4.1 in /usr/local/lib/python3.10/dist-packages (from ultralytics) (1.11.4)\n",
            "Requirement already satisfied: torch>=1.8.0 in /usr/local/lib/python3.10/dist-packages (from ultralytics) (2.1.0+cu121)\n",
            "Requirement already satisfied: torchvision>=0.9.0 in /usr/local/lib/python3.10/dist-packages (from ultralytics) (0.16.0+cu121)\n",
            "Requirement already satisfied: tqdm>=4.64.0 in /usr/local/lib/python3.10/dist-packages (from ultralytics) (4.66.2)\n",
            "Requirement already satisfied: psutil in /usr/local/lib/python3.10/dist-packages (from ultralytics) (5.9.5)\n",
            "Requirement already satisfied: py-cpuinfo in /usr/local/lib/python3.10/dist-packages (from ultralytics) (9.0.0)\n",
            "Collecting thop>=0.1.1 (from ultralytics)\n",
            "  Downloading thop-0.1.1.post2209072238-py3-none-any.whl (15 kB)\n",
            "Requirement already satisfied: pandas>=1.1.4 in /usr/local/lib/python3.10/dist-packages (from ultralytics) (1.5.3)\n",
            "Requirement already satisfied: seaborn>=0.11.0 in /usr/local/lib/python3.10/dist-packages (from ultralytics) (0.13.1)\n",
            "Requirement already satisfied: contourpy>=1.0.1 in /usr/local/lib/python3.10/dist-packages (from matplotlib>=3.3.0->ultralytics) (1.2.0)\n",
            "Requirement already satisfied: cycler>=0.10 in /usr/local/lib/python3.10/dist-packages (from matplotlib>=3.3.0->ultralytics) (0.12.1)\n",
            "Requirement already satisfied: fonttools>=4.22.0 in /usr/local/lib/python3.10/dist-packages (from matplotlib>=3.3.0->ultralytics) (4.49.0)\n",
            "Requirement already satisfied: kiwisolver>=1.0.1 in /usr/local/lib/python3.10/dist-packages (from matplotlib>=3.3.0->ultralytics) (1.4.5)\n",
            "Requirement already satisfied: numpy>=1.20 in /usr/local/lib/python3.10/dist-packages (from matplotlib>=3.3.0->ultralytics) (1.25.2)\n",
            "Requirement already satisfied: packaging>=20.0 in /usr/local/lib/python3.10/dist-packages (from matplotlib>=3.3.0->ultralytics) (23.2)\n",
            "Requirement already satisfied: pyparsing>=2.3.1 in /usr/local/lib/python3.10/dist-packages (from matplotlib>=3.3.0->ultralytics) (3.1.1)\n",
            "Requirement already satisfied: python-dateutil>=2.7 in /usr/local/lib/python3.10/dist-packages (from matplotlib>=3.3.0->ultralytics) (2.8.2)\n",
            "Requirement already satisfied: pytz>=2020.1 in /usr/local/lib/python3.10/dist-packages (from pandas>=1.1.4->ultralytics) (2023.4)\n",
            "Requirement already satisfied: charset-normalizer<4,>=2 in /usr/local/lib/python3.10/dist-packages (from requests>=2.23.0->ultralytics) (3.3.2)\n",
            "Requirement already satisfied: idna<4,>=2.5 in /usr/local/lib/python3.10/dist-packages (from requests>=2.23.0->ultralytics) (3.6)\n",
            "Requirement already satisfied: urllib3<3,>=1.21.1 in /usr/local/lib/python3.10/dist-packages (from requests>=2.23.0->ultralytics) (2.0.7)\n",
            "Requirement already satisfied: certifi>=2017.4.17 in /usr/local/lib/python3.10/dist-packages (from requests>=2.23.0->ultralytics) (2024.2.2)\n",
            "Requirement already satisfied: filelock in /usr/local/lib/python3.10/dist-packages (from torch>=1.8.0->ultralytics) (3.13.1)\n",
            "Requirement already satisfied: typing-extensions in /usr/local/lib/python3.10/dist-packages (from torch>=1.8.0->ultralytics) (4.9.0)\n",
            "Requirement already satisfied: sympy in /usr/local/lib/python3.10/dist-packages (from torch>=1.8.0->ultralytics) (1.12)\n",
            "Requirement already satisfied: networkx in /usr/local/lib/python3.10/dist-packages (from torch>=1.8.0->ultralytics) (3.2.1)\n",
            "Requirement already satisfied: jinja2 in /usr/local/lib/python3.10/dist-packages (from torch>=1.8.0->ultralytics) (3.1.3)\n",
            "Requirement already satisfied: fsspec in /usr/local/lib/python3.10/dist-packages (from torch>=1.8.0->ultralytics) (2023.6.0)\n",
            "Requirement already satisfied: triton==2.1.0 in /usr/local/lib/python3.10/dist-packages (from torch>=1.8.0->ultralytics) (2.1.0)\n",
            "Requirement already satisfied: six>=1.5 in /usr/local/lib/python3.10/dist-packages (from python-dateutil>=2.7->matplotlib>=3.3.0->ultralytics) (1.16.0)\n",
            "Requirement already satisfied: MarkupSafe>=2.0 in /usr/local/lib/python3.10/dist-packages (from jinja2->torch>=1.8.0->ultralytics) (2.1.5)\n",
            "Requirement already satisfied: mpmath>=0.19 in /usr/local/lib/python3.10/dist-packages (from sympy->torch>=1.8.0->ultralytics) (1.3.0)\n",
            "Installing collected packages: thop, ultralytics\n",
            "Successfully installed thop-0.1.1.post2209072238 ultralytics-8.1.18\n"
          ]
        }
      ],
      "source": [
        "pip install ultralytics"
      ]
    },
    {
      "cell_type": "code",
      "execution_count": null,
      "metadata": {
        "id": "Sj7KkKnvOYiQ"
      },
      "outputs": [],
      "source": [
        "HOME = \"/content\""
      ]
    },
    {
      "cell_type": "code",
      "execution_count": null,
      "metadata": {
        "colab": {
          "base_uri": "https://localhost:8080/"
        },
        "id": "Se_G6RcvOdj3",
        "outputId": "6f0f4e78-1d86-41a6-862f-266ec8392ee2"
      },
      "outputs": [
        {
          "output_type": "stream",
          "name": "stdout",
          "text": [
            "Ultralytics YOLOv8.1.18 🚀 Python-3.10.12 torch-2.1.0+cu121 CPU (Intel Xeon 2.20GHz)\n",
            "\u001b[34m\u001b[1mengine/trainer: \u001b[0mtask=detect, mode=train, model=yolov8m.pt, data=/content/data.yaml, epochs=120, time=None, patience=100, batch=16, imgsz=640, save=True, save_period=-1, cache=False, device=None, workers=8, project=None, name=train2, exist_ok=False, pretrained=True, optimizer=auto, verbose=True, seed=0, deterministic=True, single_cls=False, rect=False, cos_lr=False, close_mosaic=10, resume=False, amp=True, fraction=1.0, profile=False, freeze=None, multi_scale=False, overlap_mask=True, mask_ratio=4, dropout=0.0, val=True, split=val, save_json=False, save_hybrid=False, conf=0.25, iou=0.6, max_det=300, half=False, dnn=False, plots=True, source=None, vid_stride=1, stream_buffer=False, visualize=False, augment=True, agnostic_nms=False, classes=None, retina_masks=False, embed=None, show=False, save_frames=False, save_txt=False, save_conf=False, save_crop=False, show_labels=True, show_conf=True, show_boxes=True, line_width=None, format=torchscript, keras=False, optimize=False, int8=False, dynamic=False, simplify=False, opset=None, workspace=4, nms=True, lr0=0.01, lrf=0.01, momentum=0.937, weight_decay=0.0005, warmup_epochs=3.0, warmup_momentum=0.8, warmup_bias_lr=0.1, box=7.5, cls=0.5, dfl=1.5, pose=12.0, kobj=1.0, label_smoothing=0.0, nbs=64, hsv_h=0.015, hsv_s=0.7, hsv_v=0.4, degrees=0.0, translate=0.1, scale=0.5, shear=0.0, perspective=0.0, flipud=0.0, fliplr=0.5, mosaic=1.0, mixup=0.0, copy_paste=0.0, auto_augment=randaugment, erasing=0.4, crop_fraction=1.0, cfg=None, tracker=botsort.yaml, save_dir=runs/detect/train2\n",
            "Overriding model.yaml nc=80 with nc=1\n",
            "\n",
            "                   from  n    params  module                                       arguments                     \n",
            "  0                  -1  1      1392  ultralytics.nn.modules.conv.Conv             [3, 48, 3, 2]                 \n",
            "  1                  -1  1     41664  ultralytics.nn.modules.conv.Conv             [48, 96, 3, 2]                \n",
            "  2                  -1  2    111360  ultralytics.nn.modules.block.C2f             [96, 96, 2, True]             \n",
            "  3                  -1  1    166272  ultralytics.nn.modules.conv.Conv             [96, 192, 3, 2]               \n",
            "  4                  -1  4    813312  ultralytics.nn.modules.block.C2f             [192, 192, 4, True]           \n",
            "  5                  -1  1    664320  ultralytics.nn.modules.conv.Conv             [192, 384, 3, 2]              \n",
            "  6                  -1  4   3248640  ultralytics.nn.modules.block.C2f             [384, 384, 4, True]           \n",
            "  7                  -1  1   1991808  ultralytics.nn.modules.conv.Conv             [384, 576, 3, 2]              \n",
            "  8                  -1  2   3985920  ultralytics.nn.modules.block.C2f             [576, 576, 2, True]           \n",
            "  9                  -1  1    831168  ultralytics.nn.modules.block.SPPF            [576, 576, 5]                 \n",
            " 10                  -1  1         0  torch.nn.modules.upsampling.Upsample         [None, 2, 'nearest']          \n",
            " 11             [-1, 6]  1         0  ultralytics.nn.modules.conv.Concat           [1]                           \n",
            " 12                  -1  2   1993728  ultralytics.nn.modules.block.C2f             [960, 384, 2]                 \n",
            " 13                  -1  1         0  torch.nn.modules.upsampling.Upsample         [None, 2, 'nearest']          \n",
            " 14             [-1, 4]  1         0  ultralytics.nn.modules.conv.Concat           [1]                           \n",
            " 15                  -1  2    517632  ultralytics.nn.modules.block.C2f             [576, 192, 2]                 \n",
            " 16                  -1  1    332160  ultralytics.nn.modules.conv.Conv             [192, 192, 3, 2]              \n",
            " 17            [-1, 12]  1         0  ultralytics.nn.modules.conv.Concat           [1]                           \n",
            " 18                  -1  2   1846272  ultralytics.nn.modules.block.C2f             [576, 384, 2]                 \n",
            " 19                  -1  1   1327872  ultralytics.nn.modules.conv.Conv             [384, 384, 3, 2]              \n",
            " 20             [-1, 9]  1         0  ultralytics.nn.modules.conv.Concat           [1]                           \n",
            " 21                  -1  2   4207104  ultralytics.nn.modules.block.C2f             [960, 576, 2]                 \n",
            " 22        [15, 18, 21]  1   3776275  ultralytics.nn.modules.head.Detect           [1, [192, 384, 576]]          \n",
            "Model summary: 295 layers, 25856899 parameters, 25856883 gradients, 79.1 GFLOPs\n",
            "\n",
            "Transferred 469/475 items from pretrained weights\n",
            "\u001b[34m\u001b[1mTensorBoard: \u001b[0mStart with 'tensorboard --logdir runs/detect/train2', view at http://localhost:6006/\n",
            "Freezing layer 'model.22.dfl.conv.weight'\n"
          ]
        },
        {
          "output_type": "stream",
          "name": "stderr",
          "text": [
            "\u001b[34m\u001b[1mtrain: \u001b[0mScanning /content/train/labels.cache... 64 images, 0 backgrounds, 0 corrupt: 100%|██████████| 64/64 [00:00<?, ?it/s]\n"
          ]
        },
        {
          "output_type": "stream",
          "name": "stdout",
          "text": [
            "\u001b[34m\u001b[1malbumentations: \u001b[0mBlur(p=0.01, blur_limit=(3, 7)), MedianBlur(p=0.01, blur_limit=(3, 7)), ToGray(p=0.01), CLAHE(p=0.01, clip_limit=(1, 4.0), tile_grid_size=(8, 8))\n"
          ]
        },
        {
          "output_type": "stream",
          "name": "stderr",
          "text": [
            "\u001b[34m\u001b[1mval: \u001b[0mScanning /content/valid/labels.cache... 18 images, 0 backgrounds, 0 corrupt: 100%|██████████| 18/18 [00:00<?, ?it/s]\n"
          ]
        },
        {
          "output_type": "stream",
          "name": "stdout",
          "text": [
            "Plotting labels to runs/detect/train2/labels.jpg... \n",
            "\u001b[34m\u001b[1moptimizer:\u001b[0m 'optimizer=auto' found, ignoring 'lr0=0.01' and 'momentum=0.937' and determining best 'optimizer', 'lr0' and 'momentum' automatically... \n",
            "\u001b[34m\u001b[1moptimizer:\u001b[0m AdamW(lr=0.002, momentum=0.9) with parameter groups 77 weight(decay=0.0), 84 weight(decay=0.0005), 83 bias(decay=0.0)\n",
            "\u001b[34m\u001b[1mTensorBoard: \u001b[0mmodel graph visualization added ✅\n",
            "Image sizes 640 train, 640 val\n",
            "Using 0 dataloader workers\n",
            "Logging results to \u001b[1mruns/detect/train2\u001b[0m\n",
            "Starting training for 120 epochs...\n",
            "\n",
            "      Epoch    GPU_mem   box_loss   cls_loss   dfl_loss  Instances       Size\n"
          ]
        },
        {
          "output_type": "stream",
          "name": "stderr",
          "text": [
            "\r  0%|          | 0/4 [00:00<?, ?it/s]"
          ]
        }
      ],
      "source": [
        "#Run twice in case there is any missing file error and make sure to check the folder.\n",
        "from ultralytics import YOLO\n",
        "model = YOLO(\"yolov8m.pt\")\n",
        "model.train(data=f\"{HOME}/data.yaml\", epochs=120, imgsz=640, augment=True,nms=True, conf=0.25, iou=0.6)"
      ]
    },
    {
      "cell_type": "code",
      "execution_count": null,
      "metadata": {
        "id": "1pt5_Da2OgSF"
      },
      "outputs": [],
      "source": [
        "from IPython import display"
      ]
    },
    {
      "cell_type": "code",
      "execution_count": null,
      "metadata": {
        "id": "XmDSNFpUTJg3"
      },
      "outputs": [],
      "source": [
        "display.Image(f\"/content/runs/detect/train/val_batch0_pred.jpg\",width=1000)"
      ]
    },
    {
      "cell_type": "code",
      "execution_count": null,
      "metadata": {
        "id": "oGqv2FixOciJ"
      },
      "outputs": [],
      "source": [
        "import locale\n",
        "def getpreferredencoding(do_setlocale = True):\n",
        "    return \"UTF-8\"\n",
        "locale.getpreferredencoding = getpreferredencoding"
      ]
    },
    {
      "cell_type": "code",
      "execution_count": null,
      "metadata": {
        "id": "aMmXc52KOnyX"
      },
      "outputs": [],
      "source": [
        "count = 0"
      ]
    },
    {
      "cell_type": "code",
      "execution_count": null,
      "metadata": {
        "id": "-OdxNnPjOnnQ"
      },
      "outputs": [],
      "source": []
    },
    {
      "cell_type": "code",
      "execution_count": null,
      "metadata": {
        "id": "gpuaeE3GOIfB"
      },
      "outputs": [],
      "source": [
        "!yolo task=detect mode=predict model=/content/runs/detect/train/weights/best.pt source=/content/test/images/bs_261926_4_174326_4_19_jpg.rf.7ef43d7affcd9fa599adedc52e911211.jpeg conf=0.1\n",
        "display.Image(f\"/content/runs/detect/predict3/bs_261926_4_174326_4_19_jpg.rf.7ef43d7affcd9fa599adedc52e911211.jpeg\",width=2000)"
      ]
    },
    {
      "cell_type": "code",
      "execution_count": null,
      "metadata": {
        "id": "jksx4IBdTMC7"
      },
      "outputs": [],
      "source": [
        "model = YOLO('/content/runs/detect/train/weights/best.pt')"
      ]
    },
    {
      "cell_type": "code",
      "execution_count": 1,
      "metadata": {
        "id": "TxOL0ZnZTv3q"
      },
      "outputs": [],
      "source": [
        "import cv2\n",
        "from skimage import io\n",
        "def resize_image(image, width, height):\n",
        "    return cv2.resize(image, (width, height))"
      ]
    },
    {
      "cell_type": "code",
      "execution_count": 3,
      "metadata": {
        "id": "ar9X5nMnUHeR"
      },
      "outputs": [],
      "source": [
        "pred_img = io.imread(f\"/content/test/images/bp_262118_4_174541_4_19_jpg.rf.83019ff6f2b13a182d37ac45375e012f.jpeg\" )\n",
        "#obj = ImageSeg(\"/content/kg_261737_4_174522_4_19_jpg.rf.97b50fd7852b1ce9b33c227bc50989e8.jpg\")\n",
        "#img = obj.IsoGrayThresh()\n",
        "# img = np.expand_dims(img,-1)\n",
        "# img = np.expand_dims(img,-1)\n",
        "# img = 255-img\n",
        "# img\n",
        "#pred_img = resize_image(pred_img,(640,640))\n",
        "import cv2\n",
        "\n",
        "# Load your grayscale image\n",
        "#img = cv2.imread('path_to_your_image.jpg', cv2.IMREAD_GRAYSCALE)  # Load the image as grayscale\n",
        "\n",
        "# Convert grayscale image to RGB\n",
        "#img_rgb = cv2.cvtColor(img, cv2.COLOR_GRAY2RGB)"
      ]
    },
    {
      "cell_type": "code",
      "execution_count": 4,
      "metadata": {
        "id": "TD0COSGgVH5w",
        "colab": {
          "base_uri": "https://localhost:8080/",
          "height": 176
        },
        "outputId": "dc618120-499f-41e5-db1c-b7f2ce6cd9e7"
      },
      "outputs": [
        {
          "output_type": "error",
          "ename": "NameError",
          "evalue": "name 'model' is not defined",
          "traceback": [
            "\u001b[0;31m---------------------------------------------------------------------------\u001b[0m",
            "\u001b[0;31mNameError\u001b[0m                                 Traceback (most recent call last)",
            "\u001b[0;32m<ipython-input-4-adbd1a260093>\u001b[0m in \u001b[0;36m<cell line: 4>\u001b[0;34m()\u001b[0m\n\u001b[1;32m      2\u001b[0m \u001b[0;31m#img = img.transpose((3, 2, 1, 0))  # Transpose to (batch_size, channels, height, width)\u001b[0m\u001b[0;34m\u001b[0m\u001b[0;34m\u001b[0m\u001b[0m\n\u001b[1;32m      3\u001b[0m \u001b[0;34m\u001b[0m\u001b[0m\n\u001b[0;32m----> 4\u001b[0;31m \u001b[0mplots\u001b[0m \u001b[0;34m=\u001b[0m \u001b[0mmodel\u001b[0m\u001b[0;34m.\u001b[0m\u001b[0mpredict\u001b[0m\u001b[0;34m(\u001b[0m\u001b[0;34m(\u001b[0m\u001b[0mpred_img\u001b[0m\u001b[0;34m)\u001b[0m\u001b[0;34m,\u001b[0m\u001b[0mconf\u001b[0m\u001b[0;34m=\u001b[0m\u001b[0;36m0.1\u001b[0m\u001b[0;34m)\u001b[0m\u001b[0;34m\u001b[0m\u001b[0;34m\u001b[0m\u001b[0m\n\u001b[0m",
            "\u001b[0;31mNameError\u001b[0m: name 'model' is not defined"
          ]
        }
      ],
      "source": [
        "# Assuming img has shape (batch_size, height, width, channels)\n",
        "#img = img.transpose((3, 2, 1, 0))  # Transpose to (batch_size, channels, height, width)\n",
        "\n",
        "plots = model.predict((pred_img),conf=0.1)"
      ]
    },
    {
      "cell_type": "code",
      "execution_count": null,
      "metadata": {
        "id": "NDUytpn0Z8rL"
      },
      "outputs": [],
      "source": [
        "plots"
      ]
    },
    {
      "cell_type": "code",
      "execution_count": null,
      "metadata": {
        "id": "6qmvrLWHa9su"
      },
      "outputs": [],
      "source": [
        "from PIL import Image\n",
        "for r in plots:\n",
        "    im_array = r.plot()  # plot a BGR numpy array of predictions\n",
        "    im = Image.fromarray(im_array[..., ::-1])  # RGB PIL image\n",
        "    im.show()  # show image\n",
        "    im.save('results.jpg')  #"
      ]
    },
    {
      "cell_type": "code",
      "execution_count": null,
      "metadata": {
        "id": "OjT9nPSRbHKT"
      },
      "outputs": [],
      "source": [
        "(io.imread(\"/content/LoG_Annotations/test/images/el_262187_4_174500_4_19_jpg.rf.001f03055ad8808501e9208e15f3764b.jpg\")).shape"
      ]
    },
    {
      "cell_type": "code",
      "execution_count": null,
      "metadata": {
        "id": "nBYKYQOTcHZ4"
      },
      "outputs": [],
      "source": [
        "plots[0].boxes.xyxy"
      ]
    },
    {
      "cell_type": "code",
      "execution_count": null,
      "metadata": {
        "id": "eKVo2f9A5oCo"
      },
      "outputs": [],
      "source": [
        "import numpy as np\n",
        "import matplotlib.pyplot as plt\n",
        "from skimage import io\n",
        "import cv2\n",
        "from skimage.morphology import (erosion, dilation, closing, opening,area_closing, area_opening)\n",
        "from skimage.measure import label, regionprops, regionprops_table\n",
        "import pandas as pd\n",
        "\n",
        "import matplotlib.pyplot as plt\n",
        "import numpy as np\n",
        "import pandas as pd\n",
        "import skimage\n",
        "from skimage.io import imread, imshow\n",
        "from skimage.color import rgb2gray, rgb2hsv\n",
        "from skimage.measure import label, regionprops, regionprops_table\n",
        "from skimage.filters import threshold_otsu\n",
        "from scipy.ndimage import median_filter\n",
        "from matplotlib.patches import Rectangle\n",
        "from tqdm import tqdm\n",
        "from skimage.measure import label\n",
        "import os\n",
        "import matplotlib.pyplot as plt\n",
        "import numpy as np\n",
        "from math import sqrt\n",
        "from skimage.io import imread, imshow\n",
        "from skimage.color import rgb2gray, label2rgb\n",
        "from skimage.feature import blob_dog, blob_log, blob_doh\n",
        "from skimage.morphology import erosion, dilation, opening, closing\n",
        "from skimage.measure import label, regionprops\n",
        "from skimage.feature import blob_dog, blob_log, blob_doh\n",
        "from math import sqrt\n",
        "import matplotlib.pyplot as plt\n",
        "import numpy as np\n",
        "import time"
      ]
    },
    {
      "cell_type": "code",
      "execution_count": null,
      "metadata": {
        "id": "XMybySGs7mUk"
      },
      "outputs": [],
      "source": [
        "class ImageSeg:\n",
        "     #Initializing the path of image and threshold value by taking as class parameters\n",
        "    def __init__(self,path):\n",
        "        self.path = path\n",
        "        self.img = plt.imread(path)\n",
        "        self.threshold = 0\n",
        "    #Visualize the raw rgb image\n",
        "    def visualize_rgb(self):\n",
        "        rgb_img = self.img\n",
        "        plt.imshow(rgb_img)\n",
        "\n",
        "    #Nullify the R and B values in the image matrix\n",
        "    def RGNull(self):\n",
        "        arr = np.array(self.img)\n",
        "        greenval = 0\n",
        "        count = 0\n",
        "        for i in range(len(arr)):\n",
        "            for j in range(len(arr[i])):\n",
        "                count+=1\n",
        "                greenval+=arr[i][j][1]\n",
        "                arr[i][j][0]=0\n",
        "                arr[i][j][2]=0\n",
        "        self.threshold = (greenval/count)/1.5\n",
        "        #self.threshold = np.mean(arr)/1.5\n",
        "        return arr\n",
        "\n",
        "    #Grayscale the image\n",
        "    def IsoGray(self):\n",
        "        RGNull_img = self.RGNull()\n",
        "        gray_img = cv2.cvtColor(RGNull_img,cv2.COLOR_RGB2GRAY)\n",
        "        return gray_img\n",
        "\n",
        "    #Apply Thresholding\n",
        "    def IsoGrayThresh(self):\n",
        "\n",
        "        gray_img = self.IsoGray()\n",
        "        for i in range(len(gray_img)):\n",
        "            for j in range(len(gray_img[i])):\n",
        "                if gray_img[i][j]>self.threshold:\n",
        "                    gray_img[i][j]=255\n",
        "                else:\n",
        "                    gray_img[i][j]=0\n",
        "\n",
        "        plt.imshow(gray_img)\n",
        "        return gray_img\n",
        "\n",
        "    #Comparison b/w raw rgb, grayscaled and thresholded images\n",
        "    def visualize_compare(self):\n",
        "        fig = plt.figure(figsize=(14, 30))\n",
        "        row = 1\n",
        "        cols = 3\n",
        "        fig.add_subplot(row,cols,1)\n",
        "        io.imshow(self.img)\n",
        "        fig.add_subplot(row,cols,2)\n",
        "        io.imshow(self.IsoGray())\n",
        "        fig.add_subplot(row,cols,3)\n",
        "        io.imshow(self.IsoGrayThresh())\n",
        "\n",
        "    #Function to count the tree pixels in the thresholded image\n",
        "    def PixelCount(self):\n",
        "        count = 0\n",
        "        arr = self.IsoGrayThresh()\n",
        "        for i in arr:\n",
        "            for j in i:\n",
        "                if j!=0:\n",
        "                    count+=1\n",
        "\n",
        "        return count"
      ]
    },
    {
      "cell_type": "code",
      "execution_count": null,
      "metadata": {
        "id": "Eqa41nQy7nVc"
      },
      "outputs": [],
      "source": [
        "def Conv2D(self,kernel_size=(8,8)):\n",
        "\n",
        "    kernel = np.ones(kernel_size,np.float32)/25\n",
        "    dst = cv2.filter2D(img,-1,kernel)\n",
        "    plt.imshow(dst)\n",
        "    return dst"
      ]
    },
    {
      "cell_type": "code",
      "execution_count": null,
      "metadata": {
        "id": "8fJuSxMN71-b"
      },
      "outputs": [],
      "source": [
        "PATH = \"/content/Web_capture_8-9-2023_232142_earth.google.com.jpeg\""
      ]
    },
    {
      "cell_type": "code",
      "execution_count": null,
      "metadata": {
        "id": "EZh0Xix4XRJ-"
      },
      "outputs": [],
      "source": []
    },
    {
      "cell_type": "code",
      "execution_count": null,
      "metadata": {
        "id": "cqwp3Go874jU"
      },
      "outputs": [],
      "source": [
        "obj = ImageSeg(PATH)\n",
        "rgb_img = io.imread(PATH)\n",
        "img = obj.IsoGrayThresh()\n",
        "io.imshow(img)\n",
        "#img = Conv2D(img)"
      ]
    },
    {
      "cell_type": "code",
      "execution_count": null,
      "metadata": {
        "id": "pY8LztF615Sz"
      },
      "outputs": [],
      "source": [
        "import matplotlib.pyplot as plt\n",
        "import numpy as np\n",
        "import matplotlib.patches as patches\n",
        "fig, ax = plt.subplots(figsize=(20,14))\n",
        "blobs = blob_log(255-img, max_sigma=30, threshold=0.3)\n",
        "ax.imshow(rgb_img)\n",
        "# for i in (plots[0].boxes.xyxy.cpu().numpy()):\n",
        "#     center = ((i[0] + i[2]) / 2, (i[1] + i[3]) / 2)\n",
        "#     radius = max(abs(i[0] - i[2]) / 2, abs(i[1] - i[3]) / 2)*np.sqrt(2)\n",
        "#     # Create a circle patch\n",
        "#     circle = patches.Circle(center, radius, color='r', fill=False)\n",
        "\n",
        "#     # Add the patch to the figure\n",
        "#     ax.add_patch(circle)\n",
        "\n",
        "\n",
        "for blob in blobs:\n",
        "    if blob[2]>max(img.shape)/min(img.shape)*3.14: #and blob[2]<2*(max(len(img),len(img[0]))):\n",
        "        y, x, area = blob\n",
        "        ax.add_patch(plt.Circle((x, y), area*np.sqrt(2), color='r',\n",
        "                                fill=False))\n",
        "\n",
        "plt.show()"
      ]
    },
    {
      "cell_type": "code",
      "execution_count": null,
      "metadata": {
        "id": "h_fvZE2A3bXw"
      },
      "outputs": [],
      "source": [
        "model = YOLO('/content/runs/detect/train/weights/best.pt')\n",
        "\n",
        "# Export the model\n",
        "model.export(format='tfjs')"
      ]
    },
    {
      "cell_type": "code",
      "execution_count": null,
      "metadata": {
        "id": "NeAwLQF0r0hb"
      },
      "outputs": [],
      "source": []
    }
  ],
  "metadata": {
    "accelerator": "GPU",
    "colab": {
      "provenance": [],
      "gpuType": "T4"
    },
    "kernelspec": {
      "display_name": "Python 3",
      "name": "python3"
    },
    "language_info": {
      "name": "python"
    }
  },
  "nbformat": 4,
  "nbformat_minor": 0
}